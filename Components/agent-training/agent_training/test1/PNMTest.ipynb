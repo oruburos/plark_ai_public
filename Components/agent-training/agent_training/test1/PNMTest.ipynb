{
 "cells": [
  {
   "cell_type": "code",
   "execution_count": 3,
   "metadata": {},
   "outputs": [
    {
     "name": "stdout",
     "output_type": "stream",
     "text": [
      "step 1\n"
     ]
    }
   ],
   "source": [
    "import numpy as np\n",
    "import sys\n",
    "sys.path.append('/Components/utils')\n",
    "sys.path.append('/Components/agent-training/agent_training')\n",
    "\n",
    "import domain_parameters_json\n",
    "\n",
    "from pnm import PNM\n",
    "\n",
    "#Local import of retrain_helper\n",
    "import retrain_helper as rh\n",
    "import helper\n",
    "print(\"step 1\")"
   ]
  },
  {
   "cell_type": "code",
   "execution_count": 4,
   "metadata": {},
   "outputs": [
    {
     "name": "stdout",
     "output_type": "stream",
     "text": [
      "step 2\n",
      "config string : 30_30_40_2_20_3_20_2_3_3_3_15_0_15_24\n"
     ]
    }
   ],
   "source": [
    "# Choose some example parameters\n",
    "parameter_instance = {\n",
    "    \"map_width\" : 30,\n",
    "    \"map_height\" : 30,\n",
    "    \"max_turns\" : 40,\n",
    "    \"move_limit_panther\" : 2,\n",
    "    \"move_limit_pelican\" : 20,\n",
    "    \"default_torpedos\" : 3,\n",
    "    \"default_sonobuoys\" : 20,\n",
    "    \"turn_limit\" : 2,\n",
    "    \"speed\" : 3,\n",
    "    \"search_range\" : 3,\n",
    "    \"active_range\" : 3,\n",
    "    \"start_col_panther\" : 15,\n",
    "    \"start_row_panther\" : 0,\n",
    "    \"start_col_pelican\" : 15,\n",
    "    \"start_row_pelican\" : 24\n",
    "    }\n",
    "\n",
    "\n",
    "for key,value in parameter_instance.items():\n",
    "    parameter_instance[key] = np.asarray(value)\n",
    "\n",
    "config_string = rh.config_to_string(parameter_instance)\n",
    "print(\"step 2\")\n",
    "print(\"config string : {}\".format(config_string))\n",
    " "
   ]
  },
  {
   "cell_type": "code",
   "execution_count": 5,
   "metadata": {},
   "outputs": [
    {
     "name": "stdout",
     "output_type": "stream",
     "text": [
      "step 3. config file path: /Components/plark-game/plark_game/game_config/autoconfig/config_30_30_40_2_20_3_20_2_3_3_3_15_0_15_24.json\n"
     ]
    }
   ],
   "source": [
    "\n",
    "#### Can be entered as numpy array. But ***BE CAREFUL OF ORDER***\n",
    "### Create config json\n",
    "config_file_path = \"/Components/plark-game/plark_game/game_config/autoconfig/config_\" + config_string + \".json\"\n",
    "\n",
    "print(\"step 3. config file path: {}\".format(config_file_path))\n",
    "rh.dump_json_config_file(parameter_instance, config_file_path)\n",
    "\n",
    "basepath = \"\"\n",
    "#basepath = \"/data/agents/models\"\n",
    "basepath = \"/data/agents/models/retrain_test_omar\"\n",
    "\n",
    "initial_pelicans = []\n",
    "initial_panthers = []\n",
    "panther_test_string=\"/data/agents/models/agents_for_hire/panthers_tmp/PPO_20210228_193734_pnm_iteration_37_panther\"\n",
    "pelican_test_string=\"/data/agents/models/agents_for_hire/pelicans_tmp/PPO_20210228_193734_pnm_iteration_37_pelican\"\n",
    "\n",
    "initial_pelicans.append(pelican_test_string)\n",
    "initial_panthers.append(panther_test_string)"
   ]
  },
  {
   "cell_type": "code",
   "execution_count": 6,
   "metadata": {
    "pycharm": {
     "name": "#%%\n"
    }
   },
   "outputs": [
    {
     "name": "stdout",
     "output_type": "stream",
     "text": [
      "step 4\n",
      "inital pelicans ['/data/agents/models/agents_for_hire/pelicans_tmp/PPO_20210228_193734_pnm_iteration_37_pelican'] inital panther ['/data/agents/models/agents_for_hire/panthers_tmp/PPO_20210228_193734_pnm_iteration_37_panther'] config file path /Components/plark-game/plark_game/game_config/autoconfig/config_30_30_40_2_20_3_20_2_3_3_3_15_0_15_24.json base path /data/agents/models/retrain_test_omar\n"
     ]
    }
   ],
   "source": [
    "print(\"step 4\")\n",
    "print(\"inital pelicans {} inital panther {} config file path {} base path {}\".format(initial_pelicans , initial_panthers ,  config_file_path ,basepath ))\n"
   ]
  },
  {
   "cell_type": "code",
   "execution_count": 7,
   "metadata": {
    "pycharm": {
     "name": "#%%\n"
    }
   },
   "outputs": [
    {
     "name": "stderr",
     "output_type": "stream",
     "text": [
      "INFO:pnm:/data/agents/models/retrain_test_omar/20210304_124548\n"
     ]
    }
   ],
   "source": [
    "#For testing\n",
    "#max_pnm_iterations = 5\n",
    "\n",
    "\n",
    "#pnm = PNM(initial_pelicans=initial_pelicans, initial_panthers=initial_panthers,\n",
    " #                config_file_path=config_file_path, basepath=basepath,\n",
    "  #               max_pnm_iterations=max_pnm_iterationsl)\n",
    "pnm = PNM(initial_pelicans=initial_pelicans, initial_panthers=initial_panthers,\n",
    "                 config_file_path=config_file_path, basepath=basepath)\n"
   ]
  },
  {
   "cell_type": "code",
   "execution_count": 8,
   "metadata": {
    "pycharm": {
     "name": "#%%\n"
    }
   },
   "outputs": [
    {
     "name": "stderr",
     "output_type": "stream",
     "text": [
      "INFO:pnm:Initial set of 1 pelicans found\n",
      "INFO:pnm:Initial set of 1 panthers found\n",
      "INFO:pnm:Parallel Nash Memory (PNM)\n",
      "INFO:pnm:*********************************************************\n",
      "INFO:pnm:PNM iteration 1 of 100\n",
      "INFO:pnm:*********************************************************\n",
      "INFO:pnm:Computing payoffs and mixtures\n",
      "INFO:pnm:=================================================\n",
      "INFO:pnm:New matrix game:\n",
      "INFO:pnm:As numpy array:\n",
      "INFO:pnm:\n",
      "[[0.]]\n",
      "INFO:pnm:As dataframe:\n",
      "INFO:pnm:\n",
      "Panther    0\n",
      "Pelican     \n",
      "0        0.0\n",
      "INFO:pnm:SOLVING NEW GAME:\n",
      "INFO:pnm:[1.0]\n",
      "INFO:pnm:After normalisation:\n",
      "INFO:pnm:[1.]\n",
      "INFO:pnm:[1.0]\n",
      "INFO:pnm:After normalisation:\n",
      "INFO:pnm:[1.]\n",
      "INFO:pnm:=================================================\n",
      "INFO:pnm:Training pelican\n"
     ]
    },
    {
     "ename": "ValueError",
     "evalue": "Error loading agent. File : \"/data/agents/models/agents_for_hire/pelicans_tmp/PPO_20210228_193734_pnm_iteration_37_pelican/PPO_20210228_193734_pnm_iteration_37_pelican.zip\" does not exsist",
     "output_type": "error",
     "traceback": [
      "\u001B[0;31m---------------------------------------------------------------------------\u001B[0m",
      "\u001B[0;31mModuleNotFoundError\u001B[0m                       Traceback (most recent call last)",
      "\u001B[0;32m/Components/agent-training/agent_training/helper.py\u001B[0m in \u001B[0;36mloadAgent\u001B[0;34m(filepath, algorithm_type)\u001B[0m\n\u001B[1;32m    424\u001B[0m         \u001B[0;32melif\u001B[0m \u001B[0malgorithm_type\u001B[0m\u001B[0;34m.\u001B[0m\u001B[0mlower\u001B[0m\u001B[0;34m(\u001B[0m\u001B[0;34m)\u001B[0m \u001B[0;34m==\u001B[0m \u001B[0;34m'ppo'\u001B[0m\u001B[0;34m:\u001B[0m\u001B[0;34m\u001B[0m\u001B[0;34m\u001B[0m\u001B[0m\n\u001B[0;32m--> 425\u001B[0;31m             \u001B[0mmodel\u001B[0m \u001B[0;34m=\u001B[0m \u001B[0mPPO\u001B[0m\u001B[0;34m.\u001B[0m\u001B[0mload\u001B[0m\u001B[0;34m(\u001B[0m\u001B[0mfilepath\u001B[0m\u001B[0;34m)\u001B[0m\u001B[0;34m\u001B[0m\u001B[0;34m\u001B[0m\u001B[0m\n\u001B[0m\u001B[1;32m    426\u001B[0m         \u001B[0;32melif\u001B[0m \u001B[0malgorithm_type\u001B[0m\u001B[0;34m.\u001B[0m\u001B[0mlower\u001B[0m\u001B[0;34m(\u001B[0m\u001B[0;34m)\u001B[0m \u001B[0;34m==\u001B[0m \u001B[0;34m'a2c'\u001B[0m\u001B[0;34m:\u001B[0m\u001B[0;34m\u001B[0m\u001B[0;34m\u001B[0m\u001B[0m\n",
      "\u001B[0;32m/usr/local/lib/python3.6/dist-packages/stable_baselines3/common/base_class.py\u001B[0m in \u001B[0;36mload\u001B[0;34m(cls, path, env, device, **kwargs)\u001B[0m\n\u001B[1;32m    600\u001B[0m         \"\"\"\n\u001B[0;32m--> 601\u001B[0;31m         \u001B[0mdata\u001B[0m\u001B[0;34m,\u001B[0m \u001B[0mparams\u001B[0m\u001B[0;34m,\u001B[0m \u001B[0mpytorch_variables\u001B[0m \u001B[0;34m=\u001B[0m \u001B[0mload_from_zip_file\u001B[0m\u001B[0;34m(\u001B[0m\u001B[0mpath\u001B[0m\u001B[0;34m,\u001B[0m \u001B[0mdevice\u001B[0m\u001B[0;34m=\u001B[0m\u001B[0mdevice\u001B[0m\u001B[0;34m)\u001B[0m\u001B[0;34m\u001B[0m\u001B[0;34m\u001B[0m\u001B[0m\n\u001B[0m\u001B[1;32m    602\u001B[0m \u001B[0;34m\u001B[0m\u001B[0m\n",
      "\u001B[0;32m/usr/local/lib/python3.6/dist-packages/stable_baselines3/common/save_util.py\u001B[0m in \u001B[0;36mload_from_zip_file\u001B[0;34m(load_path, load_data, device, verbose)\u001B[0m\n\u001B[1;32m    394\u001B[0m                 \u001B[0mjson_data\u001B[0m \u001B[0;34m=\u001B[0m \u001B[0marchive\u001B[0m\u001B[0;34m.\u001B[0m\u001B[0mread\u001B[0m\u001B[0;34m(\u001B[0m\u001B[0;34m\"data\"\u001B[0m\u001B[0;34m)\u001B[0m\u001B[0;34m.\u001B[0m\u001B[0mdecode\u001B[0m\u001B[0;34m(\u001B[0m\u001B[0;34m)\u001B[0m\u001B[0;34m\u001B[0m\u001B[0;34m\u001B[0m\u001B[0m\n\u001B[0;32m--> 395\u001B[0;31m                 \u001B[0mdata\u001B[0m \u001B[0;34m=\u001B[0m \u001B[0mjson_to_data\u001B[0m\u001B[0;34m(\u001B[0m\u001B[0mjson_data\u001B[0m\u001B[0;34m)\u001B[0m\u001B[0;34m\u001B[0m\u001B[0;34m\u001B[0m\u001B[0m\n\u001B[0m\u001B[1;32m    396\u001B[0m \u001B[0;34m\u001B[0m\u001B[0m\n",
      "\u001B[0;32m/usr/local/lib/python3.6/dist-packages/stable_baselines3/common/save_util.py\u001B[0m in \u001B[0;36mjson_to_data\u001B[0;34m(json_string, custom_objects)\u001B[0m\n\u001B[1;32m    163\u001B[0m                 \u001B[0mbase64_object\u001B[0m \u001B[0;34m=\u001B[0m \u001B[0mbase64\u001B[0m\u001B[0;34m.\u001B[0m\u001B[0mb64decode\u001B[0m\u001B[0;34m(\u001B[0m\u001B[0mserialization\u001B[0m\u001B[0;34m.\u001B[0m\u001B[0mencode\u001B[0m\u001B[0;34m(\u001B[0m\u001B[0;34m)\u001B[0m\u001B[0;34m)\u001B[0m\u001B[0;34m\u001B[0m\u001B[0;34m\u001B[0m\u001B[0m\n\u001B[0;32m--> 164\u001B[0;31m                 \u001B[0mdeserialized_object\u001B[0m \u001B[0;34m=\u001B[0m \u001B[0mcloudpickle\u001B[0m\u001B[0;34m.\u001B[0m\u001B[0mloads\u001B[0m\u001B[0;34m(\u001B[0m\u001B[0mbase64_object\u001B[0m\u001B[0;34m)\u001B[0m\u001B[0;34m\u001B[0m\u001B[0;34m\u001B[0m\u001B[0m\n\u001B[0m\u001B[1;32m    165\u001B[0m             \u001B[0;32mexcept\u001B[0m \u001B[0mRuntimeError\u001B[0m\u001B[0;34m:\u001B[0m\u001B[0;34m\u001B[0m\u001B[0;34m\u001B[0m\u001B[0m\n",
      "\u001B[0;31mModuleNotFoundError\u001B[0m: No module named 'numpy.random._pickle'",
      "\nDuring handling of the above exception, another exception occurred:\n",
      "\u001B[0;31mValueError\u001B[0m                                Traceback (most recent call last)",
      "\u001B[0;32m<ipython-input-8-9c056f444c5a>\u001B[0m in \u001B[0;36m<module>\u001B[0;34m\u001B[0m\n\u001B[0;32m----> 1\u001B[0;31m \u001B[0mpnm\u001B[0m\u001B[0;34m.\u001B[0m\u001B[0mrun_pnm\u001B[0m\u001B[0;34m(\u001B[0m\u001B[0;34m)\u001B[0m\u001B[0;34m\u001B[0m\u001B[0;34m\u001B[0m\u001B[0m\n\u001B[0m\u001B[1;32m      2\u001B[0m \u001B[0;34m\u001B[0m\u001B[0m\n\u001B[1;32m      3\u001B[0m \u001B[0mprint\u001B[0m\u001B[0;34m(\u001B[0m\u001B[0;34m\"step 5. Models saved to : {}  &  {}\"\u001B[0m\u001B[0;34m.\u001B[0m\u001B[0mformat\u001B[0m\u001B[0;34m(\u001B[0m\u001B[0mpnm\u001B[0m\u001B[0;34m.\u001B[0m\u001B[0mpelicans_tmp_exp_path\u001B[0m\u001B[0;34m,\u001B[0m \u001B[0mpnm\u001B[0m\u001B[0;34m.\u001B[0m\u001B[0mpanthers_tmp_exp_path\u001B[0m\u001B[0;34m)\u001B[0m\u001B[0;34m)\u001B[0m\u001B[0;34m\u001B[0m\u001B[0;34m\u001B[0m\u001B[0m\n",
      "\u001B[0;32m/Components/agent-training/agent_training/pnm.py\u001B[0m in \u001B[0;36mrun_pnm\u001B[0;34m(self)\u001B[0m\n\u001B[1;32m    534\u001B[0m             \u001B[0mlogger\u001B[0m\u001B[0;34m.\u001B[0m\u001B[0minfo\u001B[0m\u001B[0;34m(\u001B[0m\u001B[0;34m'Training pelican'\u001B[0m\u001B[0;34m)\u001B[0m\u001B[0;34m\u001B[0m\u001B[0;34m\u001B[0m\u001B[0m\n\u001B[1;32m    535\u001B[0m \u001B[0;34m\u001B[0m\u001B[0m\n\u001B[0;32m--> 536\u001B[0;31m             \u001B[0mself\u001B[0m\u001B[0;34m.\u001B[0m\u001B[0mpelican_model\u001B[0m \u001B[0;34m=\u001B[0m \u001B[0mself\u001B[0m\u001B[0;34m.\u001B[0m\u001B[0mbootstrap\u001B[0m\u001B[0;34m(\u001B[0m\u001B[0mself\u001B[0m\u001B[0;34m.\u001B[0m\u001B[0mpelicans\u001B[0m\u001B[0;34m,\u001B[0m \u001B[0mself\u001B[0m\u001B[0;34m.\u001B[0m\u001B[0mpelican_env\u001B[0m\u001B[0;34m,\u001B[0m \u001B[0mmixture_pelicans\u001B[0m\u001B[0;34m)\u001B[0m\u001B[0;34m\u001B[0m\u001B[0;34m\u001B[0m\u001B[0m\n\u001B[0m\u001B[1;32m    537\u001B[0m \u001B[0;34m\u001B[0m\u001B[0m\n\u001B[1;32m    538\u001B[0m             pelican_agent_filepath = self.train_agent_against_mixture('pelican',\n",
      "\u001B[0;32m/Components/agent-training/agent_training/pnm.py\u001B[0m in \u001B[0;36mbootstrap\u001B[0;34m(self, model_paths, env, mixture)\u001B[0m\n\u001B[1;32m    219\u001B[0m             \u001B[0mpath\u001B[0m \u001B[0;34m=\u001B[0m \u001B[0mnp\u001B[0m\u001B[0;34m.\u001B[0m\u001B[0mrandom\u001B[0m\u001B[0;34m.\u001B[0m\u001B[0mchoice\u001B[0m\u001B[0;34m(\u001B[0m\u001B[0mmodel_paths\u001B[0m\u001B[0;34m,\u001B[0m \u001B[0;36m1\u001B[0m\u001B[0;34m,\u001B[0m \u001B[0mp\u001B[0m \u001B[0;34m=\u001B[0m \u001B[0mmixture\u001B[0m\u001B[0;34m)\u001B[0m\u001B[0;34m[\u001B[0m\u001B[0;36m0\u001B[0m\u001B[0;34m]\u001B[0m\u001B[0;34m\u001B[0m\u001B[0;34m\u001B[0m\u001B[0m\n\u001B[1;32m    220\u001B[0m             \u001B[0mpath\u001B[0m \u001B[0;34m=\u001B[0m \u001B[0mglob\u001B[0m\u001B[0;34m.\u001B[0m\u001B[0mglob\u001B[0m\u001B[0;34m(\u001B[0m\u001B[0mpath\u001B[0m \u001B[0;34m+\u001B[0m \u001B[0;34m\"/*.zip\"\u001B[0m\u001B[0;34m)\u001B[0m\u001B[0;34m[\u001B[0m\u001B[0;36m0\u001B[0m\u001B[0;34m]\u001B[0m\u001B[0;34m\u001B[0m\u001B[0;34m\u001B[0m\u001B[0m\n\u001B[0;32m--> 221\u001B[0;31m             \u001B[0;32mreturn\u001B[0m \u001B[0mhelper\u001B[0m\u001B[0;34m.\u001B[0m\u001B[0mloadAgent\u001B[0m\u001B[0;34m(\u001B[0m\u001B[0mpath\u001B[0m\u001B[0;34m,\u001B[0m \u001B[0mself\u001B[0m\u001B[0;34m.\u001B[0m\u001B[0mmodel_type\u001B[0m\u001B[0;34m)\u001B[0m\u001B[0;34m\u001B[0m\u001B[0;34m\u001B[0m\u001B[0m\n\u001B[0m\u001B[1;32m    222\u001B[0m         \u001B[0;32melse\u001B[0m\u001B[0;34m:\u001B[0m\u001B[0;34m\u001B[0m\u001B[0;34m\u001B[0m\u001B[0m\n\u001B[1;32m    223\u001B[0m             return helper.make_new_model(self.model_type,\n",
      "\u001B[0;32m/Components/agent-training/agent_training/helper.py\u001B[0m in \u001B[0;36mloadAgent\u001B[0;34m(filepath, algorithm_type)\u001B[0m\n\u001B[1;32m    430\u001B[0m         \u001B[0;32mreturn\u001B[0m \u001B[0mmodel\u001B[0m\u001B[0;34m\u001B[0m\u001B[0;34m\u001B[0m\u001B[0m\n\u001B[1;32m    431\u001B[0m     \u001B[0;32mexcept\u001B[0m\u001B[0;34m:\u001B[0m\u001B[0;34m\u001B[0m\u001B[0;34m\u001B[0m\u001B[0m\n\u001B[0;32m--> 432\u001B[0;31m         \u001B[0;32mraise\u001B[0m \u001B[0mValueError\u001B[0m\u001B[0;34m(\u001B[0m\u001B[0;34m'Error loading agent. File : \"'\u001B[0m \u001B[0;34m+\u001B[0m \u001B[0mfilepath\u001B[0m \u001B[0;34m+\u001B[0m \u001B[0;34m'\" does not exsist'\u001B[0m \u001B[0;34m)\u001B[0m\u001B[0;34m\u001B[0m\u001B[0;34m\u001B[0m\u001B[0m\n\u001B[0m\u001B[1;32m    433\u001B[0m \u001B[0;34m\u001B[0m\u001B[0m\n\u001B[1;32m    434\u001B[0m \u001B[0;32mdef\u001B[0m \u001B[0mog_load_driving_agent_make_video\u001B[0m\u001B[0;34m(\u001B[0m\u001B[0mpelican_agent_filepath\u001B[0m\u001B[0;34m,\u001B[0m \u001B[0mpelican_agent_name\u001B[0m\u001B[0;34m,\u001B[0m \u001B[0mpanther_agent_filepath\u001B[0m\u001B[0;34m,\u001B[0m \u001B[0mpanther_agent_name\u001B[0m\u001B[0;34m,\u001B[0m \u001B[0mconfig_file_path\u001B[0m\u001B[0;34m=\u001B[0m\u001B[0;34m'/Components/plark-game/plark_game/game_config/10x10/balanced.json'\u001B[0m\u001B[0;34m,\u001B[0m\u001B[0mvideo_path\u001B[0m\u001B[0;34m=\u001B[0m\u001B[0;34m'/Components/plark_ai_flask/builtangularSite/dist/assets/videos'\u001B[0m\u001B[0;34m)\u001B[0m\u001B[0;34m:\u001B[0m\u001B[0;34m\u001B[0m\u001B[0;34m\u001B[0m\u001B[0m\n",
      "\u001B[0;31mValueError\u001B[0m: Error loading agent. File : \"/data/agents/models/agents_for_hire/pelicans_tmp/PPO_20210228_193734_pnm_iteration_37_pelican/PPO_20210228_193734_pnm_iteration_37_pelican.zip\" does not exsist"
     ]
    }
   ],
   "source": [
    "pnm.run_pnm()\n",
    "\n",
    "print(\"step 5. Models saved to : {}  &  {}\".format(pnm.pelicans_tmp_exp_path, pnm.panthers_tmp_exp_path))"
   ]
  },
  {
   "cell_type": "code",
   "execution_count": null,
   "metadata": {},
   "outputs": [],
   "source": []
  }
 ],
 "metadata": {
  "kernelspec": {
   "display_name": "Python 3",
   "language": "python",
   "name": "python3"
  },
  "language_info": {
   "codemirror_mode": {
    "name": "ipython",
    "version": 3
   },
   "file_extension": ".py",
   "mimetype": "text/x-python",
   "name": "python",
   "nbconvert_exporter": "python",
   "pygments_lexer": "ipython3",
   "version": "3.6.8"
  }
 },
 "nbformat": 4,
 "nbformat_minor": 1
}